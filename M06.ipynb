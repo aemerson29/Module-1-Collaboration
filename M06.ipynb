{
 "cells": [
  {
   "cell_type": "code",
   "execution_count": 35,
   "id": "bc81a009",
   "metadata": {},
   "outputs": [
    {
     "name": "stdout",
     "output_type": "stream",
     "text": [
      "It's Monday, April 21, 2025, local time 04:54:34PM\n"
     ]
    }
   ],
   "source": [
    "#13.1 to 13.3\n",
    "from datetime import datetime, date, time\n",
    "\n",
    "now = datetime.now()\n",
    "\n",
    "fmt = \"It's %A, %B %d, %Y, local time %I:%M:%S%p\"\n",
    "now = now.strftime(fmt)\n",
    "with open(\"today.txt\", \"w\") as file:\n",
    "    file.write(str(now))\n",
    "\n",
    "with open(\"today.txt\", \"r\") as file:\n",
    "    today_string = file.read()\n",
    "\n",
    "print(today_string)\n"
   ]
  },
  {
   "cell_type": "code",
   "execution_count": null,
   "id": "e1ba7398",
   "metadata": {},
   "outputs": [
    {
     "name": "stdout",
     "output_type": "stream",
     "text": [
      "Process 19992 says: I'm the main program\n"
     ]
    }
   ],
   "source": [
    "#15.1\n",
    "import multiprocessing\n",
    "import os\n",
    "import random\n",
    "import time\n",
    "\n",
    "def date_wait(when):\n",
    "    random_integer = random.randint(0, 2)\n",
    "    time.sleep(random_integer)\n",
    "    print((os.getpid(), when))\n",
    "\n",
    "if __name__ == \"__main__\":\n",
    "    for n in range(3):\n",
    "        now = time.time()\n",
    "        p = multiprocessing.Process(target=date_wait,\n",
    "          args=(\"I'm function %s \" % n + str(time.ctime(now)),))\n",
    "        p.start()\n",
    "\n",
    "#on note book its only running once but in a normal .py file it will work"
   ]
  }
 ],
 "metadata": {
  "kernelspec": {
   "display_name": "Python 3",
   "language": "python",
   "name": "python3"
  },
  "language_info": {
   "codemirror_mode": {
    "name": "ipython",
    "version": 3
   },
   "file_extension": ".py",
   "mimetype": "text/x-python",
   "name": "python",
   "nbconvert_exporter": "python",
   "pygments_lexer": "ipython3",
   "version": "3.11.9"
  }
 },
 "nbformat": 4,
 "nbformat_minor": 5
}
