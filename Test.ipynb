{
 "cells": [
  {
   "cell_type": "markdown",
   "metadata": {},
   "source": [
    "Testing"
   ]
  },
  {
   "cell_type": "markdown",
   "metadata": {},
   "source": [
    "3.1 through 3.6"
   ]
  },
  {
   "cell_type": "code",
   "execution_count": null,
   "metadata": {},
   "outputs": [
    {
     "name": "stdout",
     "output_type": "stream",
     "text": [
      "3600\n",
      "86400\n",
      "24.0\n",
      "24\n"
     ]
    }
   ],
   "source": [
    "#3.1\n",
    "seconds = 60\n",
    "hours = 60\n",
    "print (seconds * hours)\n",
    "\n",
    "#3.2\n",
    "seconds_per_hour = seconds * hours\n",
    "\n",
    "#3.3\n",
    "print(seconds_per_hour * 24)\n",
    "\n",
    "#3.4\n",
    "seconds_per_day = seconds_per_hour * 24\n",
    "\n",
    "#3.5\n",
    "print (seconds_per_day / seconds_per_hour)\n",
    "\n",
    "#3.6\n",
    "print (seconds_per_day // seconds_per_hour)\n",
    "#yes, aside from the .0, 3.6 is the same as 3.5."
   ]
  }
 ],
 "metadata": {
  "kernelspec": {
   "display_name": "Python 3",
   "language": "python",
   "name": "python3"
  },
  "language_info": {
   "codemirror_mode": {
    "name": "ipython",
    "version": 3
   },
   "file_extension": ".py",
   "mimetype": "text/x-python",
   "name": "python",
   "nbconvert_exporter": "python",
   "pygments_lexer": "ipython3",
   "version": "3.11.9"
  }
 },
 "nbformat": 4,
 "nbformat_minor": 2
}
