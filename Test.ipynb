{
 "cells": [
  {
   "cell_type": "code",
   "execution_count": null,
   "metadata": {},
   "outputs": [],
   "source": [
    "#3.1\n",
    "seconds = 60\n",
    "hours = 60\n",
    "print (seconds * hours)\n",
    "\n",
    "#3.2\n",
    "seconds_per_hour = seconds * hours\n",
    "\n",
    "#3.3\n",
    "print(seconds_per_hour * 24)\n",
    "\n",
    "#3.4\n",
    "seconds_per_day = seconds_per_hour * 24\n",
    "\n",
    "#3.5\n",
    "print (seconds_per_day / seconds_per_hour)\n",
    "\n",
    "#3.6\n",
    "print (seconds_per_day // seconds_per_hour)\n",
    "#yes, aside from the .0, 3.6 is the same as 3.5."
   ]
  }
 ],
 "metadata": {
  "kernelspec": {
   "display_name": "Python 3",
   "language": "python",
   "name": "python3"
  },
  "language_info": {
   "name": "python",
   "version": "3.11.9"
  }
 },
 "nbformat": 4,
 "nbformat_minor": 2
}
