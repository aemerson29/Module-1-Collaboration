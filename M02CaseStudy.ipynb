{
 "cells": [
  {
   "cell_type": "markdown",
   "metadata": {},
   "source": [
    "Alan Emerson\n",
    "GPA tester\n",
    "\n",
    "This will take in a students name and then thier GPA before checking to see if they made either the Dean's List or the Honor Roll"
   ]
  },
  {
   "cell_type": "code",
   "execution_count": 8,
   "metadata": {},
   "outputs": [
    {
     "name": "stdout",
     "output_type": "stream",
     "text": [
      "John has made the Honor Roll!\n",
      "Brenda has made the Dean's List!\n",
      "Jake has not made the Dean's list nor the Honor Roll :(\n",
      "Bobby has made the Honor Roll!\n",
      "Carol has not made the Dean's list nor the Honor Roll :(\n",
      "Thank you for using this program.\n"
     ]
    }
   ],
   "source": [
    "while True:\n",
    "    Name = str(input(\"Enter student name or ZZZ to quit \"))\n",
    "    if Name == \"ZZZ\":\n",
    "        print(\"Thank you for using this program.\")\n",
    "        break\n",
    "    GPA = float(input(\"Enter \" + Name + \"'s GPA\"))\n",
    "\n",
    "    if GPA >= 3.5:\n",
    "        print(Name, \"has made the Dean's List!\")\n",
    "\n",
    "    elif GPA >= 3.25:\n",
    "        print(Name, \"has made the Honor Roll!\")\n",
    "\n",
    "    else:\n",
    "        print(Name, \"has not made the Dean's list nor the Honor Roll :(\")"
   ]
  }
 ],
 "metadata": {
  "kernelspec": {
   "display_name": "Python 3",
   "language": "python",
   "name": "python3"
  },
  "language_info": {
   "codemirror_mode": {
    "name": "ipython",
    "version": 3
   },
   "file_extension": ".py",
   "mimetype": "text/x-python",
   "name": "python",
   "nbconvert_exporter": "python",
   "pygments_lexer": "ipython3",
   "version": "3.11.9"
  }
 },
 "nbformat": 4,
 "nbformat_minor": 2
}
