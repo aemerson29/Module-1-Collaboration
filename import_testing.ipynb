{
 "cells": [
  {
   "cell_type": "code",
   "execution_count": null,
   "id": "f63ac688",
   "metadata": {},
   "outputs": [],
   "source": [
    "#11.1 and 11.2\n",
    "import zoo as menagerie\n",
    "\n",
    "hours = menagerie.hours()\n",
    "hours"
   ]
  },
  {
   "cell_type": "code",
   "execution_count": null,
   "id": "f544ef3a",
   "metadata": {},
   "outputs": [
    {
     "name": "stdout",
     "output_type": "stream",
     "text": [
      "[{'author': 'J R R Tolkien', 'book': 'The Hobbit'}, {'author': 'Lynne Truss', 'book': 'Eats, Shoots & Leaves'}]\n"
     ]
    }
   ],
   "source": [
    "import csv\n",
    "\n",
    "with open('books.csv', 'rt') as fin:\n",
    "     cin = csv.DictReader(fin, fieldnames=['author', 'book'])\n",
    "     books = [row for row in cin]\n",
    "print(books)\n",
    "\n"
   ]
  },
  {
   "cell_type": "code",
   "execution_count": 5,
   "id": "e7219f5b",
   "metadata": {},
   "outputs": [
    {
     "name": "stdout",
     "output_type": "stream",
     "text": [
      "[('Perdido Street Station', 'China Miéville', 2000), ('Small Gods', 'Terry Pratchett', 1992), ('The Spellman Files', 'Lisa Lutz', 2007), ('The Weirdstone of Brisingamen', 'Alan Garner', 1960), ('Thud!', 'Terry Pratchett', 2005)]\n"
     ]
    }
   ],
   "source": [
    "import sqlite3\n",
    "\n",
    "conn = sqlite3.connect('books2.db')\n",
    "curs = conn.cursor()\n",
    "#curs.execute('''CREATE TABLE books\n",
    "#    (title VARCHAR(50) PRIMARY KEY,\n",
    "#     author VARCHAR(50),\n",
    "#     year INT)''')\n",
    "\n",
    "ins = 'INSERT INTO books (title, author, year) VALUES(?, ?, ?)'\n",
    "curs.execute(ins, (\"The Weirdstone of Brisingamen\",\"Alan Garner\",1960))\n",
    "curs.execute(ins, (\"Perdido Street Station\",\"China Miéville\",2000))\n",
    "curs.execute(ins, (\"Thud!\",\"Terry Pratchett\",2005))\n",
    "curs.execute(ins, (\"The Spellman Files\",\"Lisa Lutz\",2007))\n",
    "curs.execute(ins, (\"Small Gods\",\"Terry Pratchett\",1992))\n",
    "\n",
    "curs.execute('SELECT * FROM books ORDER BY title ASC')\n",
    "print(curs.fetchall())"
   ]
  },
  {
   "cell_type": "code",
   "execution_count": null,
   "id": "068b5fa5",
   "metadata": {},
   "outputs": [],
   "source": [
    "import sqlalchemy as sa\n"
   ]
  }
 ],
 "metadata": {
  "kernelspec": {
   "display_name": "Python 3",
   "language": "python",
   "name": "python3"
  },
  "language_info": {
   "codemirror_mode": {
    "name": "ipython",
    "version": 3
   },
   "file_extension": ".py",
   "mimetype": "text/x-python",
   "name": "python",
   "nbconvert_exporter": "python",
   "pygments_lexer": "ipython3",
   "version": "3.11.9"
  }
 },
 "nbformat": 4,
 "nbformat_minor": 5
}
